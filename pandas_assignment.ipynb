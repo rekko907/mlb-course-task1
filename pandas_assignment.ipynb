{
  "cells": [
    {
      "cell_type": "markdown",
      "id": "d7a4d6ac",
      "metadata": {
        "id": "d7a4d6ac"
      },
      "source": [
        "# Основы машинного обучения: лабораторная работа №1\n",
        "## Задание 3. Знакомство с Pandas\n",
        "\n",
        "В этом задании необходимо научиться базовым приемам работы с данными. Необходимо загрузить заданный по варианту датасет, провести разведочный анализ данных, сформулировать гипотезы о возможном значении всех полей в датасете, проверить эти гипотезы, и ответить на вопросы по данным. <!-- Если в конкретном задании не указано иное, проводить очистку данных (удаление пустых и невалидных значений) не нужно. -->\n",
        "\n",
        "### Цель\n",
        "\n",
        "Знакомство с разведочным анализом данных и применение Pandas для извлечения информации\n",
        "\n",
        "### Оценивание и баллы\n",
        "\n",
        "За это задание в общей сложности можно получить до 4 баллов. Задание частично проверяется автоматически, а частично будет оцениваться вручную. Чтобы получить максимальный балл,  необходимо успешно выполнить приведенные ниже задачи.\n",
        "\n",
        "## Важные замечания\n",
        "\n",
        "1. *Откройте этот файл в своем репозитории на GitHub и скопируйте адрес из адресной строки браузера. Перейдите в [Google Colab](https://colab.research.google.com/), выберите `Файл -> Открыть ноутбук -> GitHub`, вставьте скопированный URL и нажмите кнопку поиска (кнопка с лупой справа от поля ввода строки для поиска). В Google Colab откроется копия этого ноутбука из персонального репозитория на GitHub.*\n",
        "2. *Не удаляйте и не изменяйте имена переменных в ячейках с кодом ниже. Можно добавлять в каждую ячейку произвольное количество строк кода, главное - сохранить результат решения задачи в предопределенную (-ые) переменную (-ые) в соответствующей ячейке. Если этого не сделать, автоматические тесты не будут пройдены.*\n",
        "3. *Чтобы сохранить работу, выберите `Файл -> Сохранить копию на GitHub` и __вручную выберите правильный репозиторий из раскрывающегося списка__.*\n",
        "4. *Если в процессе выполнения задания этот файл окажется испорчен, ознакомьтесь с инструкцией в ноутбуке [jupyter_assignment](jupyter_assignment.ipynb), раздел \"Повторная сдача\".*  \n"
      ]
    },
    {
      "cell_type": "markdown",
      "id": "caf9d03d",
      "metadata": {
        "id": "caf9d03d"
      },
      "source": [
        "#### Задачи\n",
        "\n",
        "#### 1. Определить номер варианта\n",
        "Перейдите по ссылке из личного кабинета на Google Таблицу со списком студентов. Найдите свое ФИО в списке и запомните соответствующий порядковый номер (поле № п/п) в первом столбце. Заполните его в ячейке ниже и выполните ячейку. Если вы не можете найти себя в списке, обратитесь к своему преподавателю."
      ]
    },
    {
      "cell_type": "code",
      "execution_count": 40,
      "id": "1e5cdd43",
      "metadata": {
        "id": "1e5cdd43"
      },
      "outputs": [],
      "source": [
        "### BEGIN YOUR CODE\n",
        "\n",
        "Student_ID = 17\n",
        "\n",
        "### END YOUR CODE"
      ]
    },
    {
      "cell_type": "markdown",
      "id": "62528c2d",
      "metadata": {
        "id": "62528c2d"
      },
      "source": [
        "Теперь выполните следующую ячейку. Она вычислит номер задания и выведет его."
      ]
    },
    {
      "cell_type": "code",
      "execution_count": 41,
      "id": "d6776709",
      "metadata": {
        "id": "d6776709",
        "outputId": "4a8d6bd8-e670-463e-a530-75710de7a272",
        "colab": {
          "base_uri": "https://localhost:8080/"
        }
      },
      "outputs": [
        {
          "output_type": "stream",
          "name": "stdout",
          "text": [
            "Датасет 'Open Food Facts' доступен по следующей ссылке: https://raw.githubusercontent.com/markpolyak/datasets/refs/heads/main/data/en.openfoodfacts.org.products.tsv.tar.bz2\n",
            "В заданиях ниже, где нужно выбрать вопрос, всегда выбирайте вопрос № 3\n"
          ]
        }
      ],
      "source": [
        "datasets = [('Chipotle','https://raw.githubusercontent.com/justmarkham/DAT8/master/data/chipotle.tsv'), ('US Air Carrier market in 2019','https://raw.githubusercontent.com/markpolyak/datasets/refs/heads/main/data/aircarrier_market_us_2019.zip'), ('Open Food Facts', 'https://raw.githubusercontent.com/markpolyak/datasets/refs/heads/main/data/en.openfoodfacts.org.products.tsv.tar.bz2')]\n",
        "\n",
        "dataset_id = None if Student_ID is None else Student_ID % len(datasets)\n",
        "if dataset_id is None:\n",
        "    print(\"ОШИБКА! Не указан порядковый номер студента в списке группы.\")\n",
        "else:\n",
        "    print(f\"Датасет '{datasets[dataset_id][0]}' доступен по следующей ссылке: {datasets[dataset_id][1]}\")\n",
        "    print(f\"В заданиях ниже, где нужно выбрать вопрос, всегда выбирайте вопрос № {dataset_id+1}\")"
      ]
    },
    {
      "cell_type": "markdown",
      "id": "d4790a3a",
      "metadata": {
        "id": "d4790a3a"
      },
      "source": [
        "Скачайте датасет с помощью команды `!wget <dataset_url>`, где `<dataset_url>` необходимо заменить на ссылку на датасет, появившуюся после выполнения предыдущей ячейки. При необходимости разархивируйте датасет, используя команды `!unzip`, `!tar` и др.\n",
        "\n",
        "*Примечание: в Jupyter-ноутбуке можно использовать любые команды командного интерпретатора bash. Для этого необходимо поставить в ячейке с кодом восклицательный знак `!`, после которого записать команду bash со всеми необходимыми аргументами. Результат выполнения этой команды bash будет возвращен в Jupyter и его можно использовать в коде на Python.*"
      ]
    },
    {
      "cell_type": "code",
      "execution_count": 42,
      "id": "a2d0062c",
      "metadata": {
        "id": "a2d0062c",
        "outputId": "d0085aeb-8f09-4e9e-d44b-52f497d22f1f",
        "colab": {
          "base_uri": "https://localhost:8080/"
        }
      },
      "outputs": [
        {
          "output_type": "stream",
          "name": "stdout",
          "text": [
            "--2025-05-26 19:47:29--  https://raw.githubusercontent.com/markpolyak/datasets/refs/heads/main/data/en.openfoodfacts.org.products.tsv.tar.bz2\n",
            "Resolving raw.githubusercontent.com (raw.githubusercontent.com)... 185.199.108.133, 185.199.109.133, 185.199.110.133, ...\n",
            "Connecting to raw.githubusercontent.com (raw.githubusercontent.com)|185.199.108.133|:443... connected.\n",
            "HTTP request sent, awaiting response... 200 OK\n",
            "Length: 75977297 (72M) [application/octet-stream]\n",
            "Saving to: ‘en.openfoodfacts.org.products.tsv.tar.bz2.4’\n",
            "\n",
            "en.openfoodfacts.or 100%[===================>]  72.46M   277MB/s    in 0.3s    \n",
            "\n",
            "2025-05-26 19:47:31 (277 MB/s) - ‘en.openfoodfacts.org.products.tsv.tar.bz2.4’ saved [75977297/75977297]\n",
            "\n",
            "._en.openfoodfacts.org.products.tsv\n",
            "en.openfoodfacts.org.products.tsv\n"
          ]
        }
      ],
      "source": [
        "### BEGIN YOUR CODE\n",
        "\n",
        "!wget https://raw.githubusercontent.com/markpolyak/datasets/refs/heads/main/data/en.openfoodfacts.org.products.tsv.tar.bz2\n",
        "\n",
        "# !unzip ...\n",
        "!tar xvjf en.openfoodfacts.org.products.tsv.tar.bz2\n",
        "# !gunzip ...\n",
        "\n",
        "### END YOUR CODE"
      ]
    },
    {
      "cell_type": "markdown",
      "id": "7a03771c",
      "metadata": {
        "id": "7a03771c"
      },
      "source": [
        "##### 2. Загрузите датасет в pandas.DataFrame, сохраните его в переменной `df`. Cконвертируйте названия столбцов в нижний регистр"
      ]
    },
    {
      "cell_type": "code",
      "execution_count": 9,
      "id": "8940fc17",
      "metadata": {
        "id": "8940fc17"
      },
      "outputs": [],
      "source": [
        "import pandas as pd\n",
        "\n",
        "df = pd.read_csv('en.openfoodfacts.org.products.tsv', sep='\\t', low_memory=False)\n",
        "df.columns = df.columns.str.lower()"
      ]
    },
    {
      "cell_type": "markdown",
      "id": "bf7dc696",
      "metadata": {
        "id": "bf7dc696"
      },
      "source": [
        "##### 3. Какие столбцы присутствуют в наборе данных? (0.1 балла)"
      ]
    },
    {
      "cell_type": "code",
      "execution_count": 10,
      "id": "190bb44f",
      "metadata": {
        "id": "190bb44f",
        "outputId": "121120c1-715b-4612-af48-96be726a3de7",
        "colab": {
          "base_uri": "https://localhost:8080/"
        }
      },
      "outputs": [
        {
          "output_type": "stream",
          "name": "stdout",
          "text": [
            "['code', 'url', 'creator', 'created_t', 'created_datetime', 'last_modified_t', 'last_modified_datetime', 'product_name', 'generic_name', 'quantity', 'packaging', 'packaging_tags', 'brands', 'brands_tags', 'categories', 'categories_tags', 'categories_en', 'origins', 'origins_tags', 'manufacturing_places', 'manufacturing_places_tags', 'labels', 'labels_tags', 'labels_en', 'emb_codes', 'emb_codes_tags', 'first_packaging_code_geo', 'cities', 'cities_tags', 'purchase_places', 'stores', 'countries', 'countries_tags', 'countries_en', 'ingredients_text', 'allergens', 'allergens_en', 'traces', 'traces_tags', 'traces_en', 'serving_size', 'no_nutriments', 'additives_n', 'additives', 'additives_tags', 'additives_en', 'ingredients_from_palm_oil_n', 'ingredients_from_palm_oil', 'ingredients_from_palm_oil_tags', 'ingredients_that_may_be_from_palm_oil_n', 'ingredients_that_may_be_from_palm_oil', 'ingredients_that_may_be_from_palm_oil_tags', 'nutrition_grade_uk', 'nutrition_grade_fr', 'pnns_groups_1', 'pnns_groups_2', 'states', 'states_tags', 'states_en', 'main_category', 'main_category_en', 'image_url', 'image_small_url', 'energy_100g', 'energy-from-fat_100g', 'fat_100g', 'saturated-fat_100g', '-butyric-acid_100g', '-caproic-acid_100g', '-caprylic-acid_100g', '-capric-acid_100g', '-lauric-acid_100g', '-myristic-acid_100g', '-palmitic-acid_100g', '-stearic-acid_100g', '-arachidic-acid_100g', '-behenic-acid_100g', '-lignoceric-acid_100g', '-cerotic-acid_100g', '-montanic-acid_100g', '-melissic-acid_100g', 'monounsaturated-fat_100g', 'polyunsaturated-fat_100g', 'omega-3-fat_100g', '-alpha-linolenic-acid_100g', '-eicosapentaenoic-acid_100g', '-docosahexaenoic-acid_100g', 'omega-6-fat_100g', '-linoleic-acid_100g', '-arachidonic-acid_100g', '-gamma-linolenic-acid_100g', '-dihomo-gamma-linolenic-acid_100g', 'omega-9-fat_100g', '-oleic-acid_100g', '-elaidic-acid_100g', '-gondoic-acid_100g', '-mead-acid_100g', '-erucic-acid_100g', '-nervonic-acid_100g', 'trans-fat_100g', 'cholesterol_100g', 'carbohydrates_100g', 'sugars_100g', '-sucrose_100g', '-glucose_100g', '-fructose_100g', '-lactose_100g', '-maltose_100g', '-maltodextrins_100g', 'starch_100g', 'polyols_100g', 'fiber_100g', 'proteins_100g', 'casein_100g', 'serum-proteins_100g', 'nucleotides_100g', 'salt_100g', 'sodium_100g', 'alcohol_100g', 'vitamin-a_100g', 'beta-carotene_100g', 'vitamin-d_100g', 'vitamin-e_100g', 'vitamin-k_100g', 'vitamin-c_100g', 'vitamin-b1_100g', 'vitamin-b2_100g', 'vitamin-pp_100g', 'vitamin-b6_100g', 'vitamin-b9_100g', 'folates_100g', 'vitamin-b12_100g', 'biotin_100g', 'pantothenic-acid_100g', 'silica_100g', 'bicarbonate_100g', 'potassium_100g', 'chloride_100g', 'calcium_100g', 'phosphorus_100g', 'iron_100g', 'magnesium_100g', 'zinc_100g', 'copper_100g', 'manganese_100g', 'fluoride_100g', 'selenium_100g', 'chromium_100g', 'molybdenum_100g', 'iodine_100g', 'caffeine_100g', 'taurine_100g', 'ph_100g', 'fruits-vegetables-nuts_100g', 'fruits-vegetables-nuts-estimate_100g', 'collagen-meat-protein-ratio_100g', 'cocoa_100g', 'chlorophyl_100g', 'carbon-footprint_100g', 'nutrition-score-fr_100g', 'nutrition-score-uk_100g', 'glycemic-index_100g', 'water-hardness_100g']\n"
          ]
        }
      ],
      "source": [
        "columns = df.columns.tolist()\n",
        "\n",
        "print(columns)"
      ]
    },
    {
      "cell_type": "markdown",
      "id": "e693a9b0",
      "metadata": {
        "id": "e693a9b0"
      },
      "source": [
        "##### 4. Ответьте на вопрос и сохраните ответ в переменной `answer1` (0.1 балла)\n",
        "\n",
        "Вопросы:\n",
        "1. Какое блюдо (`item_name`) заказывали чаще всего?\n",
        "2. Сколько авиаперевозчиков (`carrier`) представлены в датасете?\n",
        "3. По скольким продуктам в датасете имеется информация о содержании аллергенов (`allergens`)?"
      ]
    },
    {
      "cell_type": "code",
      "execution_count": 12,
      "id": "b1615597",
      "metadata": {
        "id": "b1615597",
        "outputId": "241ce272-88e5-448a-8312-c28ee92c95a0",
        "colab": {
          "base_uri": "https://localhost:8080/"
        }
      },
      "outputs": [
        {
          "output_type": "stream",
          "name": "stdout",
          "text": [
            "37176\n"
          ]
        }
      ],
      "source": [
        "answer1 = df['allergens'].count()\n",
        "\n",
        "print(answer1)"
      ]
    },
    {
      "cell_type": "markdown",
      "id": "e5e4a54b",
      "metadata": {
        "id": "e5e4a54b"
      },
      "source": [
        "##### 5. Ответьте на вопрос и сохраните ответ в переменной `answer2` (0.1 балла)\n",
        "\n",
        "Вопросы:\n",
        "1. Сколько всего было заказов блюда, название которого сохранено в `answer1`?\n",
        "2. Посчитайте общие суммарные количества перевезенных пассажиров (`passengers`), фунтов груза (`freight`) и почты (`mail`) на маршруте из Великобритании (GB) в США (US). В `answer2` запишите максимальное из трех получившихся чисел.\n",
        "3. Сколько всего продуктов, относящихся к категории \"молочные\" (`Dairies,Milks`), с заполненным названием?"
      ]
    },
    {
      "cell_type": "code",
      "execution_count": 45,
      "id": "5e576703",
      "metadata": {
        "id": "5e576703",
        "outputId": "b75b1862-4ee6-4eba-b26c-52c65c186209",
        "colab": {
          "base_uri": "https://localhost:8080/"
        }
      },
      "outputs": [
        {
          "output_type": "stream",
          "name": "stdout",
          "text": [
            "2105\n"
          ]
        }
      ],
      "source": [
        "mask = df['categories'].notna() & df['product_name'].notna() & df['categories'].str.lower().str.contains('dairies|milks')\n",
        "filt_df = df[mask]\n",
        "answer2 = len(filt_df)\n",
        "print(answer2)"
      ]
    },
    {
      "cell_type": "markdown",
      "id": "f28dfff0",
      "metadata": {
        "id": "f28dfff0"
      },
      "source": [
        "##### 6. Ответьте на вопрос и сохраните ответ в переменной `answer3` (0.2 балла)\n",
        "\n",
        "Вопросы:\n",
        "1. Какой доход получила сеть Chipotle Mexican Grill на заказах, попавших в датасет?\n",
        "2. Какой авиаперевозчик (`unique_carrier_name`) перевез больше всего груза (`mail` + `freight`)?\n",
        "3. Как называется продукт категории `Fats` с максимальной жирностью, не превышающей 30 г на 100 г продукта?"
      ]
    },
    {
      "cell_type": "code",
      "execution_count": 49,
      "id": "0618e3db",
      "metadata": {
        "id": "0618e3db",
        "outputId": "8e15fa0a-3174-4389-e627-bcf39cc19a27",
        "colab": {
          "base_uri": "https://localhost:8080/"
        }
      },
      "outputs": [
        {
          "output_type": "stream",
          "name": "stdout",
          "text": [
            "Margarine a tartiner light a l'huile de tournesol\n"
          ]
        }
      ],
      "source": [
        "mask = df['fat_100g'].notna() & df['categories'].notna() & df['product_name'].notna() & df['fat_100g'].le(30) & ( # ≤ 30\n",
        "                                                                                                                 df['categories'].str.lower().str.contains('fats'))\n",
        "f_df = df[mask]\n",
        "prod = f_df.loc[f_df['fat_100g'].idxmax()]\n",
        "answer3 = prod['product_name']\n",
        "print(answer3)"
      ]
    },
    {
      "cell_type": "markdown",
      "id": "3924c56d",
      "metadata": {
        "id": "3924c56d"
      },
      "source": [
        "##### 7. Ответьте на вопрос и сохраните ответ в переменной `answer4` (0.25 балла)\n",
        "\n",
        "Вопросы:\n",
        "1. Каков средний доход с одного заказа?\n",
        "2. Какое максимальное количество пассажиров одна авиакомпания смогла перевезти из США в другие страны за все время?\n",
        "3. Какова энергетическая ценность в кДж продукта из России (`countries_en`) имеющего максимальное содержание холестерина?"
      ]
    },
    {
      "cell_type": "code",
      "execution_count": 51,
      "id": "bea51b74",
      "metadata": {
        "id": "bea51b74",
        "outputId": "0ac7da7b-cd6c-48ae-d7c7-a67f1a18c0c3",
        "colab": {
          "base_uri": "https://localhost:8080/"
        }
      },
      "outputs": [
        {
          "output_type": "stream",
          "name": "stdout",
          "text": [
            "2319.0\n"
          ]
        }
      ],
      "source": [
        "mask = df['countries_en'].notna() & df['countries_en'].str.lower().str.contains('russia') & (\n",
        "    df['energy_100g'].notna() &\n",
        "    df['cholesterol_100g'].notna())\n",
        "fdf = df[mask]\n",
        "row = fdf.loc[fdf['cholesterol_100g'].idxmax()]\n",
        "answer4 = row['energy_100g']\n",
        "print(answer4)"
      ]
    },
    {
      "cell_type": "markdown",
      "id": "5d00d132",
      "metadata": {
        "id": "5d00d132"
      },
      "source": [
        "##### 8. Ответьте на вопрос и сохраните ответ в переменной `answer5` (0.25 балл)\n",
        "\n",
        "Вопросы:\n",
        "1. Сколько раз был заказан самый популярный напиток (Coke, Sprite, Mountain Dew и т.п.)?\n",
        "2. Между какими двумя городами было перевезено наибольшее количество пассажиров? Учтите оба направления. Ответ запишите в виде списка из двух строк.\n",
        "3. Приведите названия всех аллергенов к нижнему регистру. Какой аллерген встречается в продуктах чаще всего?"
      ]
    },
    {
      "cell_type": "code",
      "execution_count": 53,
      "id": "773f3787",
      "metadata": {
        "id": "773f3787",
        "outputId": "81f5e2cc-f5a5-43d1-c778-b722f5b56fe1",
        "colab": {
          "base_uri": "https://localhost:8080/"
        }
      },
      "outputs": [
        {
          "output_type": "stream",
          "name": "stdout",
          "text": [
            "lait\n"
          ]
        }
      ],
      "source": [
        "\n",
        "allergens_clean = df['allergens'].dropna().str.lower()\n",
        "allergen_split = (\n",
        "    allergens_clean\n",
        "    .str.split(',')\n",
        "    .explode()\n",
        "    .str.strip()\n",
        ")\n",
        "count = allergen_split[allergen_split != ''].value_counts()\n",
        "answer5 = count.idxmax()\n",
        "print(answer5)"
      ]
    },
    {
      "cell_type": "markdown",
      "id": "fd33327f",
      "metadata": {
        "id": "fd33327f"
      },
      "source": [
        "##### 9. Ответьте на вопрос и сохраните ответ в переменной `answer6` (0.5 балл)\n",
        "\n",
        "Вопросы:\n",
        "1. Какой суммарный доход принесли напитки в заказах вегетарианцев?\n",
        "2. Для пары городов из предыдущего вопроса найдите 3 авиакомпании, которые перевезли больше всего пассажиров. Посчитайте, какой процент от общего пассажиропотока между этими городами перевезла каждая из трех авиакомпаний. В `answer6` запишите найденные проценты в виде списка из трех чисел, округлив их до двух знаков после запятой.\n",
        "3. Найдити самый опасный продукт, содержащий наибольшее количество аллергенов."
      ]
    },
    {
      "cell_type": "code",
      "execution_count": 54,
      "id": "b5e8cc08",
      "metadata": {
        "id": "b5e8cc08",
        "outputId": "7a42cb5c-80e9-45fd-fb00-19244807812d",
        "colab": {
          "base_uri": "https://localhost:8080/"
        }
      },
      "outputs": [
        {
          "output_type": "stream",
          "name": "stdout",
          "text": [
            "Nos toasts chauds \n"
          ]
        }
      ],
      "source": [
        "df_allergens = df[df['allergens'].notna()].copy()\n",
        "df_allergens['allergens_clean'] = df_allergens['allergens'].str.lower()\n",
        "df_allergens['allergen_count'] = df_allergens['allergens_clean'].str.split(',').apply(\n",
        "    lambda lst: len([a.strip() for a in lst if a.strip()]))\n",
        "most_allergenic = df_allergens.loc[df_allergens['allergen_count'].idxmax()]\n",
        "answer6 = most_allergenic['product_name']\n",
        "print(answer6)"
      ]
    },
    {
      "cell_type": "markdown",
      "id": "b0c39d4b",
      "metadata": {
        "id": "b0c39d4b"
      },
      "source": [
        "##### 10. Ответьте на вопрос и сохраните ответ в переменной `answer7` (0.5 балл)\n",
        "\n",
        "Вопросы:\n",
        "1. Сколько было сделано вегетарианских заказов? Заказ не считается вегетарианским, если в нем были не вегетарианские блюда.\n",
        "2. Для каждой страны найдите процент международного пассажиропотока (относительно США), используя общее количество пассажиров на рейсах класса F. В `answer7` запишите название страны с третьим по величине пассажиропотоком в/из США.\n",
        "3. Переведите названия групп продуктов (`pnns_groups_1`, `pnns_groups_2`) в нижний регистр. В переменную `answer7` запишите список, содержащий три элемента: название группы продуктов 1, название группы продуктов 2 и среднее количество пищевых волокон (fiber) для седьмой по насыщенности пищевыми волокнами группы продуктов."
      ]
    },
    {
      "cell_type": "code",
      "execution_count": 58,
      "id": "2ad348d2",
      "metadata": {
        "id": "2ad348d2",
        "outputId": "28bfdd1b-02a7-4b85-e2d0-a7b1cbfffcff",
        "colab": {
          "base_uri": "https://localhost:8080/"
        }
      },
      "outputs": [
        {
          "output_type": "stream",
          "name": "stdout",
          "text": [
            "['sugary snacks', 'biscuits and cakes', np.float64(3.45)]\n"
          ]
        }
      ],
      "source": [
        "df_fiber = (\n",
        "    df[df['fiber_100g'].notna() & df['pnns_groups_1'].notna() & df['pnns_groups_2'].notna()]\n",
        "    .copy()\n",
        ")\n",
        "df_fiber['pnns_groups_1'] = df_fiber['pnns_groups_1'].str.lower()\n",
        "df_fiber['pnns_groups_2'] = df_fiber['pnns_groups_2'].str.lower()\n",
        "group_fiber = df_fiber.groupby('pnns_groups_1')['fiber_100g'].mean()\n",
        "group_fiber_sorted = group_fiber.sort_values(ascending=False)\n",
        "seventh_group = group_fiber_sorted.index[6]\n",
        "row = df_fiber[df_fiber['pnns_groups_1'] == seventh_group].iloc[0]\n",
        "answer7 = [row['pnns_groups_1'], row['pnns_groups_2'], round(group_fiber_sorted.iloc[6], 2)]\n",
        "print(answer7)"
      ]
    },
    {
      "cell_type": "markdown",
      "id": "d86bf7a9",
      "metadata": {
        "id": "d86bf7a9"
      },
      "source": [
        "##### 11. Ответьте на вопрос и сохраните ответ в переменной `answer8` (1 балл)\n",
        "\n",
        "Вопросы:\n",
        "1. Какой соус или дополнительный ингредиент по выбору (`choice_description`) чаще всего берут вместе с буррито с курицей (Chicken Burrito)?\n",
        "2. В каком месяце пассажиропоток между городами, записанными в переменную `answer5`, был максимальным?\n",
        "3. Какое название у группы продуктов `pnns_groups_2`, являющейся наиболее сбалансированной с точки зрения среднего содержания белков, жиров и углеводов? Под \"сбалансированной\" понимать близость БЖУ к пропорции 1:1:4."
      ]
    },
    {
      "cell_type": "code",
      "execution_count": 57,
      "id": "6fb6af7c",
      "metadata": {
        "id": "6fb6af7c",
        "outputId": "2b537522-0b92-46b9-d673-de8906bdfbb3",
        "colab": {
          "base_uri": "https://localhost:8080/"
        }
      },
      "outputs": [
        {
          "output_type": "stream",
          "name": "stdout",
          "text": [
            "Soups\n"
          ]
        }
      ],
      "source": [
        "import numpy as np\n",
        "pnns_groups_2 = df['pnns_groups_2'].dropna().str.lower()\n",
        "mask = pnns_groups_2.all() & df['proteins_100g'].notna() & df['fat_100g'].notna() & df['carbohydrates_100g'].notna()\n",
        "df_bju = df[mask].copy()\n",
        "group_means = df_bju.groupby('pnns_groups_2')[['proteins_100g', 'fat_100g', 'carbohydrates_100g']].mean()\n",
        "group_ratios = group_means.div(group_means.sum(axis=1), axis=0)\n",
        "target_ratio = np.array([1/6, 1/6, 4/6])\n",
        "group_ratios['distance'] = np.linalg.norm(group_ratios.values - target_ratio, axis=1)\n",
        "answer8 = group_ratios['distance'].idxmin()\n",
        "print(answer8)"
      ]
    },
    {
      "cell_type": "markdown",
      "id": "1724764c",
      "metadata": {
        "id": "1724764c"
      },
      "source": [
        "##### 12. Визуализируйте данные в соответствии с заданием (1 балл)\n",
        "\n",
        "1. Постройте гистограмму распределения общей стоимости заказов. Найти и отметить на графике средний чек и медианную стоимость заказа.\n",
        "2. Постройте стековую столбчатую гистограмму пассажиропотока с разбивкой по городам (отдельные столбцы) и авиакомпаниям (разбивка внутри столбца).\n",
        "3. Постройте столбчатую гистограмму усредненной по группам продуктов энергетической ценности, с группировкой по `pnns_groups_1`.\n"
      ]
    },
    {
      "cell_type": "code",
      "execution_count": 56,
      "id": "ceb2757d",
      "metadata": {
        "id": "ceb2757d",
        "outputId": "ecaa29e2-a4b2-49c0-a491-fbc0500bad3a",
        "colab": {
          "base_uri": "https://localhost:8080/",
          "height": 607
        }
      },
      "outputs": [
        {
          "output_type": "display_data",
          "data": {
            "text/plain": [
              "<Figure size 1200x600 with 1 Axes>"
            ],
            "image/png": "[encoded data removed]"
          },
          "metadata": {}
        }
      ],
      "source": [
        "import matplotlib.pyplot as plt\n",
        "df_ene = df[df['energy_100g'].notna() & df['pnns_groups_1'].str.lower().notna()].copy()\n",
        "group_energy = df_ene.groupby('pnns_groups_1')['energy_100g'].mean().sort_values(ascending=False)\n",
        "plt.figure(figsize=(12, 6))\n",
        "group_energy.plot(kind='bar')\n",
        "plt.ylabel('кДж на 100г')\n",
        "plt.xlabel('Группа продуктов')\n",
        "plt.title('Гистограмма усредненной по группам продуктов энергетической ценности')\n",
        "plt.xticks(rotation=45, ha='right')\n",
        "plt.tight_layout()\n",
        "plt.grid(axis='y')\n",
        "plt.show()"
      ]
    }
  ],
  "metadata": {
    "kernelspec": {
      "display_name": "Python [conda env:base] *",
      "language": "python",
      "name": "conda-base-py"
    },
    "language_info": {
      "codemirror_mode": {
        "name": "ipython",
        "version": 3
      },
      "file_extension": ".py",
      "mimetype": "text/x-python",
      "name": "python",
      "nbconvert_exporter": "python",
      "pygments_lexer": "ipython3",
      "version": "3.12.7"
    },
    "colab": {
      "provenance": []
    }
  },
  "nbformat": 4,
  "nbformat_minor": 5
}