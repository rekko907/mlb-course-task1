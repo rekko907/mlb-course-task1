{
  "cells": [
    {
      "cell_type": "markdown",
      "metadata": {
        "id": "df5yDPGoqjlD"
      },
      "source": [
        "# Основы машинного обучения: лабораторная работа №1\n",
        "## Задание 2. Знакомство с Matplotlib и LaTeX\n",
        "\n",
        "В этом задании по номеру варианта задана параметризованная математическая функция. Необходимо её оценить и визуализировать на графике с помощью Python.\n",
        "\n",
        "### Цель\n",
        "\n",
        "Научиться выполнять базовые математические операции с помощью `numpy` и визуализировать результаты с помощью `matplotlib`\n",
        "\n",
        "### Оценивание и баллы\n",
        "\n",
        "За это задание в общей сложности можно получить до 2 баллов. Задание частично проверяется автоматически, а частично будет оцениваться вручную. Чтобы получить максимальный балл,  необходимо успешно выполнить приведенные ниже задачи."
      ]
    },
    {
      "cell_type": "markdown",
      "metadata": {
        "id": "NG-CbkJ6qjlF"
      },
      "source": [
        "## Часть 1. Определить номер варианта\n",
        "\n",
        "Начнем с импорта библиотеки `numpy`. Она понадобится позже для выполнения некоторых математических операций. Также потребуется библиотека `matplotlib.pyplot`, чтобы визуализировать результаты вычислений."
      ]
    },
    {
      "cell_type": "code",
      "execution_count": 6,
      "metadata": {
        "id": "AMZ_4W_mqjlG"
      },
      "outputs": [],
      "source": [
        "import numpy as np\n",
        "from matplotlib import pyplot as plt"
      ]
    },
    {
      "cell_type": "markdown",
      "metadata": {
        "id": "s2lwqyNcqjlH"
      },
      "source": [
        "Перейдите по ссылке из личного кабинета на Google Таблицу со списком студентов. Найдите свое ФИО в списке и запомните соответствующий порядковый номер (поле `№ п/п`) в первом столбце. Заполните его в ячейке ниже и выполните ячейку. Если вы не можете найти себя в списке, обратитесь к преподавателю, принимающему лабораторные работы."
      ]
    },
    {
      "cell_type": "code",
      "execution_count": 1,
      "metadata": {
        "id": "4S1HXPopqjlI"
      },
      "outputs": [],
      "source": [
        "### BEGIN YOUR CODE\n",
        "\n",
        "Student_ID = 17\n",
        "\n",
        "### END YOUR CODE"
      ]
    },
    {
      "cell_type": "markdown",
      "metadata": {
        "id": "zhdlqqLwqjlI"
      },
      "source": [
        "Теперь выполните следующую ячейку. Она вычислит номер задания и выведет его."
      ]
    },
    {
      "cell_type": "code",
      "execution_count": 2,
      "metadata": {
        "id": "GIDHClyZqjlI",
        "outputId": "aebbfcd5-c244-4baa-ca22-a9965fd7802a",
        "colab": {
          "base_uri": "https://localhost:8080/"
        }
      },
      "outputs": [
        {
          "output_type": "stream",
          "name": "stdout",
          "text": [
            "Пожалуйста, используйте математическую функцию No 17 ниже.\n"
          ]
        }
      ],
      "source": [
        "task_id = None if Student_ID is None else Student_ID % 25 if Student_ID % 25 > 0 else 25\n",
        "print(f\"Пожалуйста, используйте математическую функцию No {task_id} ниже.\")"
      ]
    },
    {
      "cell_type": "markdown",
      "metadata": {
        "id": "7ZAJGBJXqjlI"
      },
      "source": [
        "![mathematical_functions.png](https://github.com/hse-mlwp-2022/assignment2-template/raw/main/mathematical_functions.png)"
      ]
    },
    {
      "cell_type": "markdown",
      "metadata": {
        "id": "OFgHEgk0qjlI"
      },
      "source": [
        "В списке математических функций, представленных выше, $y$, или, более корректно, $y(x)$, является зависимой переменной, полученной в результате вычисления математической функции. $a$, $b$, $c$, $d$ — это скалярные параметры функции, а $x$ — независимая переменная.\n",
        "\n",
        "Теперь, когда функция выбрана, запишите её в ячейке ниже, используя LaTeX, и выполните ячейку, чтобы отобразить её."
      ]
    },
    {
      "cell_type": "markdown",
      "source": [],
      "metadata": {
        "id": "kneiZz58swyU"
      }
    },
    {
      "cell_type": "markdown",
      "metadata": {
        "id": "ljsCGi9dqjlJ"
      },
      "source": [
        "$$ y = a \\cdot x^2 \\cdot \\cos(b) \\cdot x $$"
      ]
    },
    {
      "cell_type": "markdown",
      "metadata": {
        "id": "CmaEmjG5qjlJ"
      },
      "source": [
        "## Часть 2. Вычисления в Python\n",
        "\n",
        "Напишите функцию на Python, которая вычисляет математическую функцию $y(x)$ с заданными скалярными параметрами $a$, $b$, $c$, $d$ (если применимо) и списком значений независимой переменной $x$. Найти математические функции, доступные в библиотеке `numpy`, можно [здесь](https://numpy.org/doc/stable/reference/routines.math.html).\n",
        "\n",
        "Пример для функции $y(x) = a \\sin^2x + b\\log_cx$ может выглядеть так:\n",
        "```python\n",
        "def my_function(x,a,b,c,d):\n",
        "    return a * np.sin(x) ** 2 + b * np.log(x) / np.log(c)\n",
        "```"
      ]
    },
    {
      "cell_type": "code",
      "execution_count": 14,
      "metadata": {
        "id": "1Ed9Ks9sqjlJ"
      },
      "outputs": [],
      "source": [
        "def my_function(x,a,b):\n",
        "  ### BEGIN YOUR CODE\n",
        "  return a * x ** 2 * np.cos(b) * x\n",
        "  ### END YOUR CODE"
      ]
    },
    {
      "cell_type": "markdown",
      "metadata": {
        "id": "jxmxSnwqqjlJ"
      },
      "source": [
        "Задайте значения для параметров $a$, $b$, $c$, $d$ и укажите диапазон для переменной $x$:"
      ]
    },
    {
      "cell_type": "code",
      "execution_count": 15,
      "metadata": {
        "id": "Tafbef7wqjlJ"
      },
      "outputs": [],
      "source": [
        "### BEGIN YOUR CODE\n",
        "\n",
        "a = 1\n",
        "b = 3\n",
        "x = np.linspace(0, 10, 100)\n",
        "\n",
        "### END YOUR CODE"
      ]
    },
    {
      "cell_type": "markdown",
      "metadata": {
        "id": "iZjeq4bzqjlK"
      },
      "source": [
        "Вычислите значения функции $y(x)$ на интервале `x`. Необходимо сделать это векторно и без использования циклов. Постройте график функции. Измените значения параметров $a$, $b$, $c$, $d$ и $x$ в ячейке выше, чтобы получить аккуратный, понятный и красивый график."
      ]
    },
    {
      "cell_type": "code",
      "execution_count": 18,
      "metadata": {
        "id": "w6gH7FClqjlK",
        "outputId": "ce557892-2a29-47f2-86cf-1122e3395ebe",
        "colab": {
          "base_uri": "https://localhost:8080/",
          "height": 489
        }
      },
      "outputs": [
        {
          "output_type": "execute_result",
          "data": {
            "text/plain": [
              "Text(0, 0.5, 'Ось Y')"
            ]
          },
          "metadata": {},
          "execution_count": 18
        },
        {
          "output_type": "display_data",
          "data": {
            "text/plain": [
              "<Figure size 640x480 with 1 Axes>"
            ],
            "image/png": "[encoded data removed]"
          },
          "metadata": {}
        }
      ],
      "source": [
        "### BEGIN YOUR CODE\n",
        "\n",
        "y = my_function(x,a,b)\n",
        "\n",
        "plt.plot(x, y, color='green', linestyle='--')\n",
        "plt.title(\"График функции y=a⋅x2⋅cos(b)⋅x\")\n",
        "plt.xlabel(\"Ось X\")\n",
        "plt.ylabel(\"Ось Y\")\n",
        "\n",
        "### END YOUR CODE"
      ]
    },
    {
      "cell_type": "markdown",
      "metadata": {
        "id": "SHz8S2kOqjlK"
      },
      "source": [
        "### Кастомизируйте свой график\n",
        "\n",
        "Настройте внешний вид рисунка в ячейке выше. Измените цвет графика функции (например, задайте его красным), обновите стиль линии (например, нарисуйте пунктирную линию или штрих-пунктир), добавьте подписи, метки и так далее. Ознакомьтесь с [документацией](https://matplotlib.org/stable/api/_as_gen/matplotlib.pyplot.plot.html) для получения дополнительных сведений. Попробуйте разместить несколько графиков с разными наборами значений параметров $a$, $b$, $c$, $d$ на одном рисунке, используя `subplot`. Посмотрите примеры из официального [руководства](https://matplotlib.org/stable/tutorials/index.html) для вдохновения."
      ]
    },
    {
      "cell_type": "markdown",
      "metadata": {
        "id": "AkYYH4c9qjlK"
      },
      "source": [
        "## Часть 3. Линейная алгебра в Python\n",
        "\n",
        "Вычислите скалярное произведение двух векторов `vector_a` и `vector_b`, заданных в ячейке с кодом ниже. Результат поместите в переменную `dot_product`."
      ]
    },
    {
      "cell_type": "code",
      "execution_count": 20,
      "metadata": {
        "id": "TEhQHYXtqjlK",
        "outputId": "ecf2f697-3fa9-41d9-9b0f-cdf92d6c970f",
        "colab": {
          "base_uri": "https://localhost:8080/"
        }
      },
      "outputs": [
        {
          "output_type": "stream",
          "name": "stdout",
          "text": [
            "Вектор A: [[71 28  9  4 73]]\n",
            "Вектор B: [[74]\n",
            " [72]\n",
            " [94]\n",
            " [51]\n",
            " [80]]\n",
            "Cкалярное произведение <A, B>=[[14160]]\n"
          ]
        }
      ],
      "source": [
        "rng = np.random.RandomState(Student_ID)\n",
        "vector_a = rng.choice(np.arange(100, dtype=np.int32), size=(1,5), replace=False)\n",
        "vector_b = rng.choice(np.arange(100, dtype=np.int32), size=(5,1), replace=False)\n",
        "\n",
        "### BEGIN YOUR CODE\n",
        "\n",
        "dot_product = np.dot(vector_a, vector_b)\n",
        "\n",
        "### END YOUR CODE\n",
        "\n",
        "print(f'Вектор A: {vector_a}\\nВектор B: {vector_b}\\nCкалярное произведение <A, B>={dot_product}')"
      ]
    },
    {
      "cell_type": "markdown",
      "metadata": {
        "id": "1_D38VTRqjlL"
      },
      "source": [
        "### Оценивание работы\n",
        "\n",
        "За заполнение расположенных выше ячеек можно получить:\n",
        "- максимум 0.5 балла за корректно заполненную ячейку с математической функцией, набранной с помощью LaTeX;\n",
        "- максимум 0.5 балла за корректно работающий код во всех ячейках с кодом;\n",
        "- максимум 1 балл за создание графика с внешним видом \"не по умолчанию\"."
      ]
    },
    {
      "cell_type": "code",
      "execution_count": null,
      "metadata": {
        "id": "6BGsxEa-qjlL"
      },
      "outputs": [],
      "source": []
    }
  ],
  "metadata": {
    "kernelspec": {
      "display_name": "Python [conda env:base] *",
      "language": "python",
      "name": "conda-base-py"
    },
    "language_info": {
      "codemirror_mode": {
        "name": "ipython",
        "version": 3
      },
      "file_extension": ".py",
      "mimetype": "text/x-python",
      "name": "python",
      "nbconvert_exporter": "python",
      "pygments_lexer": "ipython3",
      "version": "3.12.7"
    },
    "colab": {
      "provenance": []
    }
  },
  "nbformat": 4,
  "nbformat_minor": 0
}