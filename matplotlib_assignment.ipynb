{
 "cells": [
  {
   "cell_type": "markdown",
   "metadata": {},
   "source": [
    "# Основы машинного обучения: лабораторная работа №1\n",
    "## Задание 2. Знакомство с Matplotlib и LaTeX\n",
    "\n",
    "В этом задании по номеру варианта задана параметризованная математическая функция. Необходимо её оценить и визуализировать на графике с помощью Python. \n",
    "\n",
    "### Цель\n",
    "\n",
    "Научиться выполнять базовые математические операции с помощью `numpy` и визуализировать результаты с помощью `matplotlib`\n",
    "\n",
    "### Оценивание и баллы\n",
    "\n",
    "За это задание в общей сложности можно получить до 3 баллов. Задание частично проверяется автоматически, а частично будет оцениваться вручную. Чтобы получить максимальный балл,  необходимо успешно выполнить приведенные ниже задачи."
   ]
  },
  {
   "cell_type": "markdown",
   "metadata": {},
   "source": [
    "## Часть 1. Определить номер варианта\n",
    "\n",
    "Начнем с импорта библиотеки `numpy`. Она понадобится позже для выполнения некоторых математических операций. Также потребуется библиотека `matplotlib.pyplot`, чтобы визуализировать результаты вычислений."
   ]
  },
  {
   "cell_type": "code",
   "execution_count": null,
   "metadata": {},
   "outputs": [],
   "source": [
    "import numpy as np\n",
    "from matplotlib import pyplot as plt"
   ]
  },
  {
   "cell_type": "markdown",
   "metadata": {},
   "source": [
    "Перейдите по ссылке из личного кабинета на Google Таблицу со списком студентов. Найдите свое ФИО в списке и запомните соответствующий порядковый номер (поле `№ п/п`) в первом столбце. Заполните его в ячейке ниже и выполните ячейку. Если вы не можете найти себя в списке, обратитесь к преподавателю, принимающему лабораторные работы."
   ]
  },
  {
   "cell_type": "code",
   "execution_count": 13,
   "metadata": {},
   "outputs": [],
   "source": [
    "### BEGIN YOUR CODE\n",
    "\n",
    "Student_ID = None\n",
    "\n",
    "### END YOUR CODE"
   ]
  },
  {
   "cell_type": "markdown",
   "metadata": {},
   "source": [
    "Теперь выполните следующую ячейку. Она вычислит номер задания и выведет его."
   ]
  },
  {
   "cell_type": "code",
   "execution_count": null,
   "metadata": {},
   "outputs": [],
   "source": [
    "task_id = None if Student_ID is None else Student_ID % 25 if Student_ID % 25 > 0 else 25\n",
    "print(f\"Пожалуйста, используйте математическую функцию No {task_id} ниже.\")"
   ]
  },
  {
   "cell_type": "markdown",
   "metadata": {},
   "source": [
    "![mathematical_functions.png](https://github.com/hse-mlwp-2022/assignment2-template/raw/main/mathematical_functions.png)"
   ]
  },
  {
   "cell_type": "markdown",
   "metadata": {},
   "source": [
    "В списке математических функций, представленных выше, $y$, или, более корректно, $y(x)$, является зависимой переменной, полученной в результате вычисления математической функции. $a$, $b$, $c$, $d$ — это скалярные параметры функции, а $x$ — независимая переменная.\n",
    "\n",
    "Теперь, когда функция выбрана, запишите её в ячейке ниже, используя LaTeX, и выполните ячейку, чтобы отобразить её."
   ]
  },
  {
   "cell_type": "markdown",
   "metadata": {},
   "source": [
    "$$ y = ... $$"
   ]
  },
  {
   "cell_type": "markdown",
   "metadata": {},
   "source": [
    "## Часть 2. Вычисления в Python\n",
    "\n",
    "Напишите функцию на Python, которая вычисляет математическую функцию $y(x)$ с заданными скалярными параметрами $a$, $b$, $c$, $d$ (если применимо) и списком значений независимой переменной $x$. Найти математические функции, доступные в библиотеке `numpy`, можно [здесь](https://numpy.org/doc/stable/reference/routines.math.html).\n",
    "\n",
    "Пример для функции $y(x) = a \\sin^2x + b\\log_cx$ может выглядеть так:\n",
    "```python\n",
    "def my_function(x,a,b,c,d):\n",
    "    return a * np.sin(x) ** 2 + b * np.log(x) / np.log(c)\n",
    "```"
   ]
  },
  {
   "cell_type": "code",
   "execution_count": null,
   "metadata": {},
   "outputs": [],
   "source": [
    "def my_function(x,a,b,c,d):\n",
    "  ### BEGIN YOUR CODE\n",
    "  return None\n",
    "  ### END YOUR CODE"
   ]
  },
  {
   "cell_type": "markdown",
   "metadata": {},
   "source": [
    "Задайте значения для параметров $a$, $b$, $c$, $d$ и укажите диапазон для переменной $x$:"
   ]
  },
  {
   "cell_type": "code",
   "execution_count": null,
   "metadata": {},
   "outputs": [],
   "source": [
    "### BEGIN YOUR CODE\n",
    "\n",
    "a = 2\n",
    "b = 2\n",
    "c = 2\n",
    "d = 2\n",
    "x = np.linspace(0, 10, 100)\n",
    "\n",
    "### END YOUR CODE"
   ]
  },
  {
   "cell_type": "markdown",
   "metadata": {},
   "source": [
    "Вычислите значения функции $y(x)$ на интервале `x`. Необходимо сделать это векторно и без использования циклов. Постройте график функции. Измените значения параметров $a$, $b$, $c$, $d$ и $x$ в ячейке выше, чтобы получить аккуратный, понятный и красивый график."
   ]
  },
  {
   "cell_type": "code",
   "execution_count": 24,
   "metadata": {},
   "outputs": [
    {
     "data": {
      "text/plain": [
       "[<matplotlib.lines.Line2D at 0x1156f2810>]"
      ]
     },
     "execution_count": 24,
     "metadata": {},
     "output_type": "execute_result"
    },
    {
     "data": {
      "image/png": "[encoded data removed]",
      "text/plain": [
       "<Figure size 432x288 with 1 Axes>"
      ]
     },
     "metadata": {
      "needs_background": "light"
     },
     "output_type": "display_data"
    }
   ],
   "source": [
    "### BEGIN YOUR CODE\n",
    "\n",
    "# y = my_function(...)\n",
    "\n",
    "# plt.plot(...)\n",
    "\n",
    "### END YOUR CODE"
   ]
  },
  {
   "cell_type": "markdown",
   "metadata": {},
   "source": [
    "### Кастомизируйте свой график\n",
    "\n",
    "Настройте внешний вид рисунка в ячейке выше. Измените цвет графика функции (например, задайте его красным), обновите стиль линии (например, нарисуйте пунктирную линию или штрих-пунктир), добавьте подписи, метки и так далее. Ознакомьтесь с [документацией](https://matplotlib.org/stable/api/_as_gen/matplotlib.pyplot.plot.html) для получения дополнительных сведений. Попробуйте разместить несколько графиков с разными наборами значений параметров $a$, $b$, $c$, $d$ на одном рисунке, используя `subplot`. Посмотрите примеры из официального [руководства](https://matplotlib.org/stable/tutorials/index.html) для вдохновения."
   ]
  },
  {
   "cell_type": "markdown",
   "metadata": {},
   "source": [
    "### Оценивание работы\n",
    "\n",
    "За заполнение расположенных выше ячеек можно получить:\n",
    "- максимум 0.5 балла за корректно заполненную ячейку с математической функцией, набранной с помощью LaTeX;\n",
    "- максимум 0.5 балла за корректно работающий код во всех ячейках с кодом;\n",
    "- максимум 2 балла за создание графика с внешним видом \"не по умолчанию\"."
   ]
  },
  {
   "cell_type": "code",
   "execution_count": null,
   "metadata": {},
   "outputs": [],
   "source": []
  }
 ],
 "metadata": {
  "kernelspec": {
   "display_name": "Python 3 (ipykernel)",
   "language": "python",
   "name": "python3"
  },
  "language_info": {
   "codemirror_mode": {
    "name": "ipython",
    "version": 3
   },
   "file_extension": ".py",
   "mimetype": "text/x-python",
   "name": "python",
   "nbconvert_exporter": "python",
   "pygments_lexer": "ipython3",
   "version": "3.12.7"
  }
 },
 "nbformat": 4,
 "nbformat_minor": 4
}
