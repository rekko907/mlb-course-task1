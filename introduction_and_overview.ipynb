{
 "cells": [
  {
   "cell_type": "markdown",
   "metadata": {
    "colab_type": "text",
    "id": "view-in-github"
   },
   "source": [
    "<!--<badge>--><a href=\"https://colab.research.google.com/github/suai-mlb-2024/mlb-course-task1/blob/main/introduction_and_overview.ipynb\" target=\"_parent\"><img src=\"https://colab.research.google.com/assets/colab-badge.svg\" alt=\"Open In Colab\"/></a><!--</badge>-->"
   ]
  },
  {
   "cell_type": "markdown",
   "metadata": {
    "id": "yIWcMraIKoq_"
   },
   "source": [
    "# Introduction and overview\n",
    "\n",
    "Welcome to Machine Learning with Python!\n",
    "\n",
    "In this course we'll be using [Google Colaboratory](https://colab.research.google.com/) and [GitHub Classroom](https://classroom.github.com/).\n",
    "\n"
   ]
  },
  {
   "cell_type": "markdown",
   "metadata": {
    "id": "X1JNxUREMZ_l"
   },
   "source": [
    "## Learning objectives\n",
    "\n",
    "This notebook is intended to teach you:\n",
    "\n",
    "1.   How to set up your Google Colaboratory account\n",
    "2.   How to use Jupyter (Colaboratory) notebooks\n",
    "\n"
   ]
  },
  {
   "cell_type": "markdown",
   "metadata": {
    "id": "3dm7OT9bUUca"
   },
   "source": [
    "## How to set up your Google Colaboratory account\n",
    "\n",
    "Google Colaboratory is a system for writing and running code through a web browser.  Your files are stored on Google Drive, and code that you run is executed on a remote Google Cloud server.  To learn more about Google Colaboratory, check out [this document](https://colab.research.google.com/notebooks/welcome.ipynb).\n",
    "\n",
    "Google Colaboratory (including access to Google Cloud computers) is included as part of all Google accounts.  To gain access to this resource, you first need to sign up for a Google account (if you don't already have one).  Remember your username (email address) and password; you'll use it throughout the term and you'll rely on Colaboratory for most of your classes.  You can sign up for a Google account [here](http://www.google.com/).  Once you've signed into your Google account, you can access Google Colaboratory [here](https://colab.research.google.com/).\n"
   ]
  },
  {
   "cell_type": "markdown",
   "metadata": {
    "id": "yOi1Dd-cNHZu"
   },
   "source": [
    "### How to use Jupyter (Colaboratory) notebooks\n",
    "\n",
    "The document you're viewing right now is a Jupyter notebook.  A Jupyter notebook is a file (extension: .ipynb, which stands for \"**i**nteractive **Py**thon **n**ote**b**ook).  The contents of Jupyter notebooks are stored as JSON (JavaScript Object Notation) files.  It's not super important that you familiarize yourself with the nitty-gritties of the JSON format at this point in the course, but we'll probably revisit it later when we start working with data.\n",
    "\n",
    "### What's a Jupyter notebook?\n",
    "The short answer is that a Jupyter notebook is an interactive tool that allows you to take notes, execute code, create figures, and easily share it all with other people.  Jupyter notebooks comprise a series of _cells_.  Each cell (looks like a rectangular block of text) in a notebook contains one of two basic categories of content:\n",
    "  1. **Markdown cells** (like the current cell) contain formatted text in the [Markdown text formatting language](https://www.markdowntutorial.com/).  You can use these cells kind of like the code underlying text you'd write in a word processor.  What you type is what eventually appears on the screen.  For the most part, text in Markdown cells gets \"rendered\" (i.e. drawn on the screen) just as you write it.  However, you can also specify various formatting tweaks, like creating _italicized_ or **bolded** text, etc.  [This tutorial](https://www.markdowntutorial.com/) provides a quick and gentle interactive introduction to Markdown.  You can create a new Markdown cell by pressing the \"+\" button in the toolbar and selecting \"Markdown\" from the dropdown list in the toolbar.\n",
    "  2. **Code cells** (like the next cell) contains computer code. You can create a new Code cell by pressing the \"+\" button in the toolbar and selecting \"Code\" from the dropdown list in the toolbar.\n",
    "  \n",
    "The text you type into a new notebook cell is a set of instructions that tell the notebook what to do when the cell is _run_ (i.e., transformed from a set of instructions into an executed set of actions).  To run a cell, hold the `shift` key and press `enter/return`.\n",
    "  - When you run a Markdown cell, the text is rendered with the formatting options you specify.  To see and/or edit the underlying code, simply double click on the rendered text.\n",
    "  - When you run a Code cell, the Python instructions you type in are run. Note: the first time you run a Code cell, you'll see a warning message pop up (asking if it's OK to run code not authored by Google).  You should give the notebook permission to run so that you can interact with it."
   ]
  },
  {
   "cell_type": "markdown",
   "metadata": {},
   "source": [
    "# Integration with GitHub\n",
    "\n",
    "## Setup and submission\n",
    "To begin, open (click) the blue \"Open in Colab\" button at the top of this notebook. A new tab or window should open in your browser, displaying the notebook in Google Colaboratory.\n",
    "\n",
    "### Google Colab\n",
    "In order to submit your assignment you'll need to save an editable copy of your notebook. Once you finished editing your notebook in Google Colaboratory, click \"File\" > \"Save a copy in Drive\" and then save your copy of the notebook. Don't forget to remove the \"`Copy of`\" text that gets automatically appended to the beginning of the filename).\n",
    "\n",
    "The second setup task is to ensure that Colaboratory has access to your private repositories on GitHub. (By default, your assignment repositories will be accessible only to you and the course instructor.) To give Colaboratory access to your private repositories:\n",
    "- Navigate to [http://colab.research.google.com/github](http://colab.research.google.com/github)\n",
    "- Make sure the \"Include Private Repos\" checkbox is checked\n",
    "- In the popup window, sign into your GitHub account and authorize Colab to read private files\n",
    "\n",
    "You should do your work on the assignment in the *copied* notebook (i.e., the copied notebook that you have the ability to save and edit). Submitting the assignment entails syncing your copy of the notebook with your GitHub repository (in this case, `<course_name>/<assignment_name>-<username>`). From within Colaboratory, open your notebook and click \"File\" > \"Save a copy in GitHub\". Select your repository name from the Repository drop-down menu, and type notebook file name into the File path text box. Optionally, you may also enter a description into the \"Commit message\" text box or just leave the default text. Once again verify that the filename is correct and there are now prefixes like \"Copy of\" or suffixes like \"(2)\", etc. Make sure that the \"Include a link to Colaboratory\" box is checked, and press \"OK\". A new tab or window should open up, displaying your submitted notebook from within your GitHub repository.\n",
    "\n",
    "### Local python installation with Anaconda\n",
    "Here are the steps to take in case Google Colab is unavailable due to blockages, internet connectivity issues or other reasons.\n",
    "\n",
    "1. Download and install Anaconda data science toolkit from [anaconda.com](https://www.anaconda.com/products/individual).\n",
    "2. Create a local copy of your repository, e.g. by using `git clone ...` command.\n",
    "3. Open Anaconda Navigator and launch Jupyter Notebook application.\n",
    "4. From within Jupyter navigate to the local copy of your repository and open the notebook you want to work on (look for the `.ipynb` files).\n",
    "5. Edit the notebook and save the changes by pressing the diskette button in Jupyter.\n",
    "6. Commit changed notebook(s) to the local copy of your repository, e.g. by issuing `git add <filename>` and `git commit` commands.\n",
    "7. Push new commits to the GitHub with `git push`."
   ]
  },
  {
   "cell_type": "markdown",
   "metadata": {
    "id": "hZrU6z9eNq-y"
   },
   "source": [
    " # Running Python code in Jupyter notebooks\n",
    "\n",
    "If you're accessing this notebook within Google Colaboratory, you can interact with code by running it on Google Cloud, Google's high performance computing cluster.  The first time you run a command within a colaboratory notebook, you'll automatically be allocated a virtual machine (i.e., a simulation of a computer that's running somewhere on Google's servers).  It takes a few seconds to boot that system up. You'll see a \"connecting\" message in the upper right when the new machine is being allocated, and you'll see a bar graph showing RAM and disk usage once the computer is ready.  This all happens automatically, there's nothing you need to \"do\" in order to set up one of these virtual machines, aside from view and interact with the notebook in Google Colaboratory.\n",
    "\n",
    "## A small taste of Python\n",
    "\n",
    "Play around with the examples below to explore Jupyter and Colaboratory: double click on code to edit it, and press `shift` + `return` to run it."
   ]
  },
  {
   "cell_type": "code",
   "execution_count": 1,
   "metadata": {
    "colab": {
     "base_uri": "https://localhost:8080/",
     "height": 34
    },
    "id": "f6gFIBwOCv1n",
    "outputId": "c621bd08-28ee-402f-d6a0-8bd01308d01f"
   },
   "outputs": [
    {
     "name": "stdout",
     "output_type": "stream",
     "text": [
      "Hello, world!\n"
     ]
    }
   ],
   "source": [
    "print(\"Hello, world!\")"
   ]
  },
  {
   "cell_type": "code",
   "execution_count": 2,
   "metadata": {
    "colab": {
     "base_uri": "https://localhost:8080/",
     "height": 34
    },
    "id": "pZjbR4RtCxJz",
    "outputId": "7d1a7dbf-f3ee-450d-f24d-ca6512aa8c71"
   },
   "outputs": [
    {
     "name": "stdout",
     "output_type": "stream",
     "text": [
      "What is your birthday (use YYYY-MM-DD format)? 1942-06-18\n",
      "You were born 29089 day(s) ago\n"
     ]
    }
   ],
   "source": [
    "import datetime\n",
    "dob_str = input('What is your birthday (use YYYY-MM-DD format)? ')\n",
    "delta = datetime.datetime.now().date() - datetime.date.fromisoformat(dob_str)\n",
    "print(f\"You were born {delta.days} day(s) ago\")"
   ]
  },
  {
   "cell_type": "markdown",
   "metadata": {
    "id": "WQl7-gbyHb1r"
   },
   "source": [
    "You can also do fancier stuff in Python, like generating plots.  Whereas basic math functions (addition, subtraction, multiplication, division, etc.) are included in the [Python standard library](https://docs.python.org/3/library/) (i.e., the base set of instructions that the Python language is built on), generating graphics and figures will require you to use additional [libraries](https://en.wikipedia.org/wiki/Python_(programming_language)#Libraries). You can gain access to them using `import` statements."
   ]
  },
  {
   "cell_type": "code",
   "execution_count": 3,
   "metadata": {
    "colab": {
     "base_uri": "https://localhost:8080/",
     "height": 282
    },
    "id": "LbJWOsoBIQ_Z",
    "outputId": "78f932a5-655d-4c28-ceed-7db8eb1fd29f"
   },
   "outputs": [
    {
     "data": {
      "text/plain": [
       "[<matplotlib.lines.Line2D at 0x11413e150>]"
      ]
     },
     "execution_count": 3,
     "metadata": {},
     "output_type": "execute_result"
    },
    {
     "data": {
      "image/png": "[encoded data removed]",
      "text/plain": [
       "<Figure size 432x288 with 1 Axes>"
      ]
     },
     "metadata": {
      "needs_background": "light"
     },
     "output_type": "display_data"
    }
   ],
   "source": [
    "from matplotlib import pyplot as plt\n",
    "import numpy as np\n",
    "\n",
    "x = np.arange(0, 2*np.math.pi, 0.1)\n",
    "plt.plot(x, np.sin(x))"
   ]
  },
  {
   "cell_type": "markdown",
   "metadata": {
    "id": "98DxCO5xMEIm"
   },
   "source": [
    "`matplotlib` is a library for generating graphics and figures and `numpy` is a library for efficiently working with matrices and arrays.  You can play around with the contents of each line and see how it changes the figure.  If you feel that you don't understand the code above, try answering the following quesitons:\n",
    "\n",
    "\n",
    "1.   Change the `0` in `np.arange(0, 2*np.math.pi, 0.1)` to another number.  What part of the graph does this affect?\n",
    "2.   Change the `2*np.math.pi` in `np.arange(0, 2*np.math.pi, 0.1)` to another number.  What part of the graph does this affect?\n",
    "3.   Change the `0.1` in `np.arange(0, 2*np.math.pi, 0.1)` to another number.  What part of the graph does this affect?\n",
    "4.   Change the `np.sin(x)` to `np.cos(x)` in the line `plt.plot(x, np.sin(x))`.  What other functions are supported?\n",
    "5.   What do you think the `np.arange` function does?\n",
    "6.   What do you think the `plt.plot` function does?\n",
    "7.   Which aspects of the code *don't* you think you understand?  Practice articulating your questions by separating out what you think you understand from what you think you don't understand.  Turn your confusion into askable questions. Go on and send those questions to your instructor.\n",
    "\n",
    "If you've used a graphing calculator before, you might recognize some similarities between how you interacted with the graphing calculator to plot functions and the code you see above. A more detailed explanation can be found in documentation:\n",
    "- [`arange`](https://numpy.org/doc/stable/reference/generated/numpy.arange.html) function;\n",
    "- [`plot`](https://matplotlib.org/stable/api/_as_gen/matplotlib.pyplot.plot.html) function.\n"
   ]
  }
 ],
 "metadata": {
  "colab": {
   "collapsed_sections": [],
   "include_colab_link": true,
   "name": "Copy of introduction_and_overview.ipynb",
   "provenance": []
  },
  "kernelspec": {
   "display_name": "Python 3",
   "language": "python",
   "name": "python3"
  },
  "language_info": {
   "codemirror_mode": {
    "name": "ipython",
    "version": 3
   },
   "file_extension": ".py",
   "mimetype": "text/x-python",
   "name": "python",
   "nbconvert_exporter": "python",
   "pygments_lexer": "ipython3",
   "version": "3.7.16"
  }
 },
 "nbformat": 4,
 "nbformat_minor": 1
}
